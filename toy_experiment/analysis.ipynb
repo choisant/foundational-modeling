{
 "cells": [
  {
   "cell_type": "code",
   "execution_count": null,
   "metadata": {},
   "outputs": [],
   "source": []
  },
  {
   "cell_type": "markdown",
   "metadata": {},
   "source": [
    "## Comparing ML models\n",
    "A \"good\" model is a model that makes it easier for us to to find the probability distribution we are looking for.\n",
    "\n",
    "Method:\n",
    "Generate data: train, calibration, test\n",
    "\n",
    "Train two ML models:\n",
    "One decidely bad and one that is substantially better.\n",
    "\n"
   ]
  },
  {
   "cell_type": "markdown",
   "metadata": {},
   "source": []
  }
 ],
 "metadata": {
  "language_info": {
   "name": "python"
  }
 },
 "nbformat": 4,
 "nbformat_minor": 2
}
